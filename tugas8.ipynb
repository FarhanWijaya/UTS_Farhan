{
  "nbformat": 4,
  "nbformat_minor": 0,
  "metadata": {
    "colab": {
      "provenance": [],
      "authorship_tag": "ABX9TyNqsOtNr/DB7GTA2GFW4NEK",
      "include_colab_link": true
    },
    "kernelspec": {
      "name": "python3",
      "display_name": "Python 3"
    },
    "language_info": {
      "name": "python"
    }
  },
  "cells": [
    {
      "cell_type": "markdown",
      "metadata": {
        "id": "view-in-github",
        "colab_type": "text"
      },
      "source": [
        "<a href=\"https://colab.research.google.com/github/FarhanWijaya/UTS_Farhan/blob/main/tugas8.ipynb\" target=\"_parent\"><img src=\"https://colab.research.google.com/assets/colab-badge.svg\" alt=\"Open In Colab\"/></a>"
      ]
    },
    {
      "cell_type": "code",
      "execution_count": 2,
      "metadata": {
        "colab": {
          "base_uri": "https://localhost:8080/"
        },
        "id": "Ky1oaDY_eyH1",
        "outputId": "89504eb2-b0bc-416f-bcbb-0a6154bc3456"
      },
      "outputs": [
        {
          "output_type": "stream",
          "name": "stdout",
          "text": [
            "Market Share Periode Awal:  [0.35 0.34 0.19 0.12]\n",
            "Market Share Periode ke-2:  [0.395  0.3025 0.196  0.1065]\n",
            "Market Share Periode ke-3:  [0.412475 0.295225 0.19075  0.10155 ]\n"
          ]
        }
      ],
      "source": [
        "import numpy as np\n",
        "\n",
        "# Data awal: matriks transisi probabilitas berdasarkan tabel 5\n",
        "transition_matrix = np.array([\n",
        "    [0.65, 0.20, 0.10, 0.05],  # CR-V\n",
        "    [0.30, 0.40, 0.20, 0.10],  # Mobilio\n",
        "    [0.25, 0.35, 0.30, 0.10],  # Jazz\n",
        "    [0.15, 0.25, 0.30, 0.30]   # Brio\n",
        "])\n",
        "\n",
        "# Pangsa pasar awal (persentase dalam desimal, tabel 6: periode awal)\n",
        "initial_market_share = np.array([0.35, 0.34, 0.19, 0.12])\n",
        "\n",
        "# Fungsi untuk menghitung distribusi market share di masa depan\n",
        "def predict_market_share(transition_matrix, initial_share, periods):\n",
        "    result = initial_share\n",
        "    for _ in range(periods):\n",
        "        result = np.dot(result, transition_matrix)\n",
        "    return result\n",
        "\n",
        "# Prediksi market share untuk periode kedua dan ketiga\n",
        "market_share_period_2 = predict_market_share(transition_matrix, initial_market_share, 1)\n",
        "market_share_period_3 = predict_market_share(transition_matrix, initial_market_share, 2)\n",
        "\n",
        "# Menampilkan hasil\n",
        "print(\"Market Share Periode Awal: \", initial_market_share)\n",
        "print(\"Market Share Periode ke-2: \", market_share_period_2)\n",
        "print(\"Market Share Periode ke-3: \", market_share_period_3)"
      ]
    }
  ]
}